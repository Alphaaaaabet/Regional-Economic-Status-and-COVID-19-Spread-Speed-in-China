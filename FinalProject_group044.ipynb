{
 "cells": [
  {
   "cell_type": "markdown",
   "metadata": {},
   "source": [
    "# COGS 108 - Final Project "
   ]
  },
  {
   "cell_type": "markdown",
   "metadata": {},
   "source": [
    "## Permissions"
   ]
  },
  {
   "cell_type": "markdown",
   "metadata": {},
   "source": [
    "Place an `X` in the appropriate bracket below to specify if you would like your group's project to be made available to the public. (Note that PIDs will be scraped from the public submission, but student names will be included.)\n",
    "\n",
    "* [  ] YES - make available\n",
    "* [ x ] NO - keep private"
   ]
  },
  {
   "cell_type": "markdown",
   "metadata": {},
   "source": [
    "# Overview"
   ]
  },
  {
   "cell_type": "markdown",
   "metadata": {},
   "source": [
    "*Fill in your overview here*"
   ]
  },
  {
   "cell_type": "markdown",
   "metadata": {},
   "source": [
    "# Names\n",
    "\n",
    "- Yang Li\n",
    "- Yiou Lyu\n",
    "- Linfeng Hu\n",
    "- Ruby Celeste Marroquin "
   ]
  },
  {
   "cell_type": "markdown",
   "metadata": {},
   "source": [
    "# Group Members IDs\n",
    "\n",
    "- A15560579\n",
    "- A15930345\n",
    "- A15473121\n",
    "- A16094382"
   ]
  },
  {
   "cell_type": "markdown",
   "metadata": {},
   "source": [
    "# Research Question"
   ]
  },
  {
   "cell_type": "markdown",
   "metadata": {},
   "source": [
    "How does the regional economic status of each province in mainland China correlate to its breakout and recovery of COVID-19?"
   ]
  },
  {
   "cell_type": "markdown",
   "metadata": {},
   "source": [
    "## Background and Prior Work"
   ]
  },
  {
   "cell_type": "markdown",
   "metadata": {},
   "source": [
    "*Fill in your background and prior work here* \n",
    "\n",
    "References (include links):\n",
    "- 1)\n",
    "- 2)"
   ]
  },
  {
   "cell_type": "markdown",
   "metadata": {},
   "source": [
    "# Hypothesis\n"
   ]
  },
  {
   "cell_type": "markdown",
   "metadata": {},
   "source": [
    "*Fill in your hypotheses here*"
   ]
  },
  {
   "cell_type": "markdown",
   "metadata": {},
   "source": [
    "# Dataset(s)"
   ]
  },
  {
   "cell_type": "markdown",
   "metadata": {},
   "source": [
    "(Copy this information for each dataset)\n",
    "- Dataset Name: \n",
    "- Link to the dataset:\n",
    "- Number of observations:\n",
    "\n",
    "1-2 sentences describing each dataset. \n",
    "\n",
    "If you plan to use multiple datasets, add 1-2 sentences about how you plan to combine these datasets."
   ]
  },
  {
   "cell_type": "markdown",
   "metadata": {},
   "source": [
    "# Setup"
   ]
  },
  {
   "cell_type": "code",
   "execution_count": 1,
   "metadata": {},
   "outputs": [],
   "source": [
    "import pandas as pd\n",
    "import json\n",
    "import codecs\n",
    "import numpy as np\n",
    "\n",
    "import matplotlib.pyplot as plt\n",
    "import seaborn as sns\n",
    "\n",
    "import os\n",
    "import patsy\n",
    "import scipy.stats as stats\n",
    "\n",
    "import bs4\n",
    "from bs4 import BeautifulSoup"
   ]
  },
  {
   "cell_type": "markdown",
   "metadata": {},
   "source": [
    "# Data Cleaning"
   ]
  },
  {
   "cell_type": "code",
   "execution_count": 2,
   "metadata": {},
   "outputs": [],
   "source": [
    "#with codecs.open('Data/virus.json', 'r', 'utf-8') as data_file:\n",
    "    #data_teacher = json.load(data_file, 'utf-8')\n",
    "\n",
    "#topic[worksheet] = data_teacher[worksheetID]['Topic']\n",
    "#out = codecs.open('Worksheet.csv', 'w', 'utf-8')\n",
    "#out.write(topic[worksheet])"
   ]
  },
  {
   "cell_type": "markdown",
   "metadata": {},
   "source": [
    "To clean our data, our general approach is to represent datasets in pandas dataframe. Then we drop irrelevant information or outliers in data. We also rename the columns to make it easier for later analyses."
   ]
  },
  {
   "cell_type": "markdown",
   "metadata": {},
   "source": [
    "Firstly, we deal with the datasets that consist of economic status data. "
   ]
  },
  {
   "cell_type": "markdown",
   "metadata": {},
   "source": [
    "This is the income per capita value for each province in mainland China. Income is measured in yuan. "
   ]
  },
  {
   "cell_type": "code",
   "execution_count": 3,
   "metadata": {},
   "outputs": [
    {
     "data": {
      "text/html": [
       "<div>\n",
       "<style scoped>\n",
       "    .dataframe tbody tr th:only-of-type {\n",
       "        vertical-align: middle;\n",
       "    }\n",
       "\n",
       "    .dataframe tbody tr th {\n",
       "        vertical-align: top;\n",
       "    }\n",
       "\n",
       "    .dataframe thead th {\n",
       "        text-align: right;\n",
       "    }\n",
       "</style>\n",
       "<table border=\"1\" class=\"dataframe\">\n",
       "  <thead>\n",
       "    <tr style=\"text-align: right;\">\n",
       "      <th></th>\n",
       "      <th>Region</th>\n",
       "      <th>2018</th>\n",
       "      <th>2017</th>\n",
       "      <th>2016</th>\n",
       "      <th>2015</th>\n",
       "      <th>2014</th>\n",
       "      <th>2013</th>\n",
       "    </tr>\n",
       "  </thead>\n",
       "  <tbody>\n",
       "    <tr>\n",
       "      <td>0</td>\n",
       "      <td>Beijing</td>\n",
       "      <td>62361.22</td>\n",
       "      <td>57229.83</td>\n",
       "      <td>52530.38</td>\n",
       "      <td>48457.99</td>\n",
       "      <td>44488.57</td>\n",
       "      <td>40830.04</td>\n",
       "    </tr>\n",
       "    <tr>\n",
       "      <td>1</td>\n",
       "      <td>Tianjin</td>\n",
       "      <td>39506.15</td>\n",
       "      <td>37022.33</td>\n",
       "      <td>34074.46</td>\n",
       "      <td>31291.36</td>\n",
       "      <td>28832.29</td>\n",
       "      <td>26359.20</td>\n",
       "    </tr>\n",
       "    <tr>\n",
       "      <td>2</td>\n",
       "      <td>Hebei</td>\n",
       "      <td>23445.65</td>\n",
       "      <td>21484.13</td>\n",
       "      <td>19725.42</td>\n",
       "      <td>18118.09</td>\n",
       "      <td>16647.40</td>\n",
       "      <td>15189.64</td>\n",
       "    </tr>\n",
       "    <tr>\n",
       "      <td>3</td>\n",
       "      <td>Shanxi</td>\n",
       "      <td>21990.14</td>\n",
       "      <td>20420.01</td>\n",
       "      <td>19048.88</td>\n",
       "      <td>17853.67</td>\n",
       "      <td>16538.32</td>\n",
       "      <td>15119.72</td>\n",
       "    </tr>\n",
       "    <tr>\n",
       "      <td>4</td>\n",
       "      <td>Inner Mongolia</td>\n",
       "      <td>28375.65</td>\n",
       "      <td>26212.23</td>\n",
       "      <td>24126.64</td>\n",
       "      <td>22310.09</td>\n",
       "      <td>20559.34</td>\n",
       "      <td>18692.89</td>\n",
       "    </tr>\n",
       "  </tbody>\n",
       "</table>\n",
       "</div>"
      ],
      "text/plain": [
       "           Region      2018      2017      2016      2015      2014      2013\n",
       "0         Beijing  62361.22  57229.83  52530.38  48457.99  44488.57  40830.04\n",
       "1         Tianjin  39506.15  37022.33  34074.46  31291.36  28832.29  26359.20\n",
       "2           Hebei  23445.65  21484.13  19725.42  18118.09  16647.40  15189.64\n",
       "3          Shanxi  21990.14  20420.01  19048.88  17853.67  16538.32  15119.72\n",
       "4  Inner Mongolia  28375.65  26212.23  24126.64  22310.09  20559.34  18692.89"
      ]
     },
     "execution_count": 3,
     "metadata": {},
     "output_type": "execute_result"
    }
   ],
   "source": [
    "Income = pd.read_csv('Data/Income.csv')\n",
    "Income = Income.dropna(axis=1, how='all')\n",
    "Income.head()"
   ]
  },
  {
   "cell_type": "markdown",
   "metadata": {},
   "source": [
    "This is the per capita Gross Regional Product value for each province. GRP per capita is measured in yuan."
   ]
  },
  {
   "cell_type": "code",
   "execution_count": 4,
   "metadata": {},
   "outputs": [
    {
     "data": {
      "text/html": [
       "<div>\n",
       "<style scoped>\n",
       "    .dataframe tbody tr th:only-of-type {\n",
       "        vertical-align: middle;\n",
       "    }\n",
       "\n",
       "    .dataframe tbody tr th {\n",
       "        vertical-align: top;\n",
       "    }\n",
       "\n",
       "    .dataframe thead th {\n",
       "        text-align: right;\n",
       "    }\n",
       "</style>\n",
       "<table border=\"1\" class=\"dataframe\">\n",
       "  <thead>\n",
       "    <tr style=\"text-align: right;\">\n",
       "      <th></th>\n",
       "      <th>Region</th>\n",
       "      <th>2018</th>\n",
       "      <th>2017</th>\n",
       "      <th>2016</th>\n",
       "      <th>2015</th>\n",
       "      <th>2014</th>\n",
       "      <th>2013</th>\n",
       "      <th>2012</th>\n",
       "      <th>2011</th>\n",
       "      <th>2010</th>\n",
       "      <th>2009</th>\n",
       "    </tr>\n",
       "  </thead>\n",
       "  <tbody>\n",
       "    <tr>\n",
       "      <td>0</td>\n",
       "      <td>Beijing</td>\n",
       "      <td>140211</td>\n",
       "      <td>128994</td>\n",
       "      <td>118198</td>\n",
       "      <td>106497</td>\n",
       "      <td>99995</td>\n",
       "      <td>94648</td>\n",
       "      <td>87475</td>\n",
       "      <td>81658</td>\n",
       "      <td>73856</td>\n",
       "      <td>66940</td>\n",
       "    </tr>\n",
       "    <tr>\n",
       "      <td>1</td>\n",
       "      <td>Tianjin</td>\n",
       "      <td>120711</td>\n",
       "      <td>118944</td>\n",
       "      <td>115053</td>\n",
       "      <td>107960</td>\n",
       "      <td>105231</td>\n",
       "      <td>100105</td>\n",
       "      <td>93173</td>\n",
       "      <td>85213</td>\n",
       "      <td>72994</td>\n",
       "      <td>62574</td>\n",
       "    </tr>\n",
       "    <tr>\n",
       "      <td>2</td>\n",
       "      <td>Hebei</td>\n",
       "      <td>47772</td>\n",
       "      <td>45387</td>\n",
       "      <td>43062</td>\n",
       "      <td>40255</td>\n",
       "      <td>39984</td>\n",
       "      <td>38909</td>\n",
       "      <td>36584</td>\n",
       "      <td>33969</td>\n",
       "      <td>28668</td>\n",
       "      <td>24581</td>\n",
       "    </tr>\n",
       "    <tr>\n",
       "      <td>3</td>\n",
       "      <td>Shanxi</td>\n",
       "      <td>45328</td>\n",
       "      <td>42060</td>\n",
       "      <td>35532</td>\n",
       "      <td>34919</td>\n",
       "      <td>35070</td>\n",
       "      <td>34984</td>\n",
       "      <td>33628</td>\n",
       "      <td>31357</td>\n",
       "      <td>26283</td>\n",
       "      <td>21522</td>\n",
       "    </tr>\n",
       "    <tr>\n",
       "      <td>4</td>\n",
       "      <td>Inner Mongolia</td>\n",
       "      <td>68302</td>\n",
       "      <td>63764</td>\n",
       "      <td>72064</td>\n",
       "      <td>71101</td>\n",
       "      <td>71046</td>\n",
       "      <td>67836</td>\n",
       "      <td>63886</td>\n",
       "      <td>57974</td>\n",
       "      <td>47347</td>\n",
       "      <td>39735</td>\n",
       "    </tr>\n",
       "  </tbody>\n",
       "</table>\n",
       "</div>"
      ],
      "text/plain": [
       "           Region    2018    2017    2016    2015    2014    2013   2012  \\\n",
       "0         Beijing  140211  128994  118198  106497   99995   94648  87475   \n",
       "1         Tianjin  120711  118944  115053  107960  105231  100105  93173   \n",
       "2           Hebei   47772   45387   43062   40255   39984   38909  36584   \n",
       "3          Shanxi   45328   42060   35532   34919   35070   34984  33628   \n",
       "4  Inner Mongolia   68302   63764   72064   71101   71046   67836  63886   \n",
       "\n",
       "    2011   2010   2009  \n",
       "0  81658  73856  66940  \n",
       "1  85213  72994  62574  \n",
       "2  33969  28668  24581  \n",
       "3  31357  26283  21522  \n",
       "4  57974  47347  39735  "
      ]
     },
     "execution_count": 4,
     "metadata": {},
     "output_type": "execute_result"
    }
   ],
   "source": [
    "GRP = pd.read_csv('Data/GRP.csv')\n",
    "GRP = GRP.dropna(axis=1, how='all')\n",
    "GRP.head()"
   ]
  },
  {
   "cell_type": "markdown",
   "metadata": {},
   "source": [
    "Next, we move on to clean the population density related datasets."
   ]
  },
  {
   "cell_type": "markdown",
   "metadata": {},
   "source": [
    "Population per province here is calculated in the unit of 10000 persons). It includes all residents (permanent and temporary, rural and urban)at the end of that year."
   ]
  },
  {
   "cell_type": "code",
   "execution_count": 5,
   "metadata": {},
   "outputs": [
    {
     "data": {
      "text/html": [
       "<div>\n",
       "<style scoped>\n",
       "    .dataframe tbody tr th:only-of-type {\n",
       "        vertical-align: middle;\n",
       "    }\n",
       "\n",
       "    .dataframe tbody tr th {\n",
       "        vertical-align: top;\n",
       "    }\n",
       "\n",
       "    .dataframe thead th {\n",
       "        text-align: right;\n",
       "    }\n",
       "</style>\n",
       "<table border=\"1\" class=\"dataframe\">\n",
       "  <thead>\n",
       "    <tr style=\"text-align: right;\">\n",
       "      <th></th>\n",
       "      <th>Region</th>\n",
       "      <th>2018</th>\n",
       "      <th>2017</th>\n",
       "      <th>2016</th>\n",
       "      <th>2015</th>\n",
       "      <th>2014</th>\n",
       "      <th>2013</th>\n",
       "      <th>2012</th>\n",
       "      <th>2011</th>\n",
       "      <th>2010</th>\n",
       "      <th>2009</th>\n",
       "    </tr>\n",
       "  </thead>\n",
       "  <tbody>\n",
       "    <tr>\n",
       "      <td>0</td>\n",
       "      <td>Beijing</td>\n",
       "      <td>2154</td>\n",
       "      <td>2171</td>\n",
       "      <td>2173</td>\n",
       "      <td>2171</td>\n",
       "      <td>2152</td>\n",
       "      <td>2115</td>\n",
       "      <td>2069</td>\n",
       "      <td>2019</td>\n",
       "      <td>1962</td>\n",
       "      <td>1860.0</td>\n",
       "    </tr>\n",
       "    <tr>\n",
       "      <td>1</td>\n",
       "      <td>Tianjin</td>\n",
       "      <td>1560</td>\n",
       "      <td>1557</td>\n",
       "      <td>1562</td>\n",
       "      <td>1547</td>\n",
       "      <td>1517</td>\n",
       "      <td>1472</td>\n",
       "      <td>1413</td>\n",
       "      <td>1355</td>\n",
       "      <td>1299</td>\n",
       "      <td>1228.0</td>\n",
       "    </tr>\n",
       "    <tr>\n",
       "      <td>2</td>\n",
       "      <td>Hebei</td>\n",
       "      <td>7556</td>\n",
       "      <td>7520</td>\n",
       "      <td>7470</td>\n",
       "      <td>7425</td>\n",
       "      <td>7384</td>\n",
       "      <td>7333</td>\n",
       "      <td>7288</td>\n",
       "      <td>7241</td>\n",
       "      <td>7194</td>\n",
       "      <td>7034.0</td>\n",
       "    </tr>\n",
       "    <tr>\n",
       "      <td>3</td>\n",
       "      <td>Shanxi</td>\n",
       "      <td>3718</td>\n",
       "      <td>3702</td>\n",
       "      <td>3682</td>\n",
       "      <td>3664</td>\n",
       "      <td>3648</td>\n",
       "      <td>3630</td>\n",
       "      <td>3611</td>\n",
       "      <td>3593</td>\n",
       "      <td>3574</td>\n",
       "      <td>3427.0</td>\n",
       "    </tr>\n",
       "    <tr>\n",
       "      <td>4</td>\n",
       "      <td>Inner Mongolia</td>\n",
       "      <td>2534</td>\n",
       "      <td>2529</td>\n",
       "      <td>2520</td>\n",
       "      <td>2511</td>\n",
       "      <td>2505</td>\n",
       "      <td>2498</td>\n",
       "      <td>2490</td>\n",
       "      <td>2482</td>\n",
       "      <td>2472</td>\n",
       "      <td>2458.0</td>\n",
       "    </tr>\n",
       "  </tbody>\n",
       "</table>\n",
       "</div>"
      ],
      "text/plain": [
       "           Region  2018  2017  2016  2015  2014  2013  2012  2011  2010  \\\n",
       "0         Beijing  2154  2171  2173  2171  2152  2115  2069  2019  1962   \n",
       "1         Tianjin  1560  1557  1562  1547  1517  1472  1413  1355  1299   \n",
       "2           Hebei  7556  7520  7470  7425  7384  7333  7288  7241  7194   \n",
       "3          Shanxi  3718  3702  3682  3664  3648  3630  3611  3593  3574   \n",
       "4  Inner Mongolia  2534  2529  2520  2511  2505  2498  2490  2482  2472   \n",
       "\n",
       "     2009  \n",
       "0  1860.0  \n",
       "1  1228.0  \n",
       "2  7034.0  \n",
       "3  3427.0  \n",
       "4  2458.0  "
      ]
     },
     "execution_count": 5,
     "metadata": {},
     "output_type": "execute_result"
    }
   ],
   "source": [
    "population = pd.read_csv('Data/Population.csv')\n",
    "population = population.dropna(axis = 1, how = 'all')\n",
    "population.head()"
   ]
  },
  {
   "cell_type": "markdown",
   "metadata": {},
   "source": [
    "To calculate population density of a region, we also need to areas of each province. Here, area of each province is measured in unit of square kilometers.\n",
    "\n",
    "Since we only need the area information of each separate region, we will drop the \"Toal\" row at the end which contains information about the total area of China(judging by the data contained, the row name should be a typo). We will also drop the proportion row because we only need the area number. "
   ]
  },
  {
   "cell_type": "code",
   "execution_count": 6,
   "metadata": {},
   "outputs": [
    {
     "data": {
      "text/html": [
       "<div>\n",
       "<style scoped>\n",
       "    .dataframe tbody tr th:only-of-type {\n",
       "        vertical-align: middle;\n",
       "    }\n",
       "\n",
       "    .dataframe tbody tr th {\n",
       "        vertical-align: top;\n",
       "    }\n",
       "\n",
       "    .dataframe thead th {\n",
       "        text-align: right;\n",
       "    }\n",
       "</style>\n",
       "<table border=\"1\" class=\"dataframe\">\n",
       "  <thead>\n",
       "    <tr style=\"text-align: right;\">\n",
       "      <th></th>\n",
       "      <th>Region</th>\n",
       "      <th>Area</th>\n",
       "    </tr>\n",
       "  </thead>\n",
       "  <tbody>\n",
       "    <tr>\n",
       "      <td>0</td>\n",
       "      <td>Shanghai</td>\n",
       "      <td>8359</td>\n",
       "    </tr>\n",
       "    <tr>\n",
       "      <td>1</td>\n",
       "      <td>Tianjin</td>\n",
       "      <td>11,917</td>\n",
       "    </tr>\n",
       "    <tr>\n",
       "      <td>2</td>\n",
       "      <td>Beijing</td>\n",
       "      <td>16,406</td>\n",
       "    </tr>\n",
       "    <tr>\n",
       "      <td>3</td>\n",
       "      <td>Hainan</td>\n",
       "      <td>35,177</td>\n",
       "    </tr>\n",
       "    <tr>\n",
       "      <td>4</td>\n",
       "      <td>Ningxia</td>\n",
       "      <td>51,893</td>\n",
       "    </tr>\n",
       "  </tbody>\n",
       "</table>\n",
       "</div>"
      ],
      "text/plain": [
       "     Region    Area\n",
       "0  Shanghai    8359\n",
       "1   Tianjin  11,917\n",
       "2   Beijing  16,406\n",
       "3    Hainan  35,177\n",
       "4   Ningxia  51,893"
      ]
     },
     "execution_count": 6,
     "metadata": {},
     "output_type": "execute_result"
    }
   ],
   "source": [
    "area = pd.read_csv('Data/Area.csv')\n",
    "area = area.dropna(axis = 1, how = 'all')\n",
    "#shorten column names to make following analysis simpler\n",
    "area = area.rename(columns={\"Area (sq.km)\": \"Area\"})\n",
    "area = area[area.District != 'Toal']\n",
    "area = area[area.columns[:2]]\n",
    "area = area.rename(columns = {'District':'Region'})\n",
    "area.head()"
   ]
  },
  {
   "cell_type": "markdown",
   "metadata": {},
   "source": [
    "we also need to remove \",\" in the string in order to change it to type int."
   ]
  },
  {
   "cell_type": "code",
   "execution_count": 7,
   "metadata": {},
   "outputs": [
    {
     "data": {
      "text/html": [
       "<div>\n",
       "<style scoped>\n",
       "    .dataframe tbody tr th:only-of-type {\n",
       "        vertical-align: middle;\n",
       "    }\n",
       "\n",
       "    .dataframe tbody tr th {\n",
       "        vertical-align: top;\n",
       "    }\n",
       "\n",
       "    .dataframe thead th {\n",
       "        text-align: right;\n",
       "    }\n",
       "</style>\n",
       "<table border=\"1\" class=\"dataframe\">\n",
       "  <thead>\n",
       "    <tr style=\"text-align: right;\">\n",
       "      <th></th>\n",
       "      <th>Region</th>\n",
       "      <th>Area</th>\n",
       "    </tr>\n",
       "  </thead>\n",
       "  <tbody>\n",
       "    <tr>\n",
       "      <td>0</td>\n",
       "      <td>Shanghai</td>\n",
       "      <td>8359</td>\n",
       "    </tr>\n",
       "    <tr>\n",
       "      <td>1</td>\n",
       "      <td>Tianjin</td>\n",
       "      <td>11917</td>\n",
       "    </tr>\n",
       "    <tr>\n",
       "      <td>2</td>\n",
       "      <td>Beijing</td>\n",
       "      <td>16406</td>\n",
       "    </tr>\n",
       "    <tr>\n",
       "      <td>3</td>\n",
       "      <td>Hainan</td>\n",
       "      <td>35177</td>\n",
       "    </tr>\n",
       "    <tr>\n",
       "      <td>4</td>\n",
       "      <td>Ningxia</td>\n",
       "      <td>51893</td>\n",
       "    </tr>\n",
       "  </tbody>\n",
       "</table>\n",
       "</div>"
      ],
      "text/plain": [
       "     Region   Area\n",
       "0  Shanghai   8359\n",
       "1   Tianjin  11917\n",
       "2   Beijing  16406\n",
       "3    Hainan  35177\n",
       "4   Ningxia  51893"
      ]
     },
     "execution_count": 7,
     "metadata": {},
     "output_type": "execute_result"
    }
   ],
   "source": [
    "def remove_comma(strin):\n",
    "    strin = strin.replace(',','')\n",
    "    return strin\n",
    "\n",
    "area['Area']= area['Area'].apply(remove_comma)\n",
    "area.head()"
   ]
  },
  {
   "cell_type": "code",
   "execution_count": null,
   "metadata": {},
   "outputs": [],
   "source": [
    "# read virus data into dataframes \n",
    "\n",
    "list_of_virus_data = list()\n",
    "\n",
    "# append data between Feb 1 and Feb 25 to list\n",
    "for i in range(20200201,20200226): \n",
    "    path = './Data/virus/' + str(i) + '.csv'\n",
    "    df = pd.read_csv(path)\n",
    "    df.headers = path\n",
    "    list_of_virus_data.append(df)\n",
    "    \n",
    "# File 20200226.csv is missing, reason unknow. \n",
    "\n",
    "    \n",
    "# append data between Feb 27 and Feb 29 to list\n",
    "for i in range(20200227,20200230): \n",
    "    path = './Data/virus/' + str(i) + '.csv'\n",
    "    df = pd.read_csv(path)\n",
    "    df.headers = path\n",
    "    list_of_virus_data.append(df)\n",
    "\n",
    "# append data between Mar 1 and  Mar 1 to list\n",
    "for i in range(20200301,20200302): \n",
    "    path = './Data/virus/' + str(i) + '.csv'\n",
    "    list_of_virus_data.append(pd.read_csv(path))\n",
    "    \n",
    "print('number of dataframes for virus: ',len(list_of_virus_data))\n",
    "\n",
    "# access ith elment in the list using list_of_virus_data[i]\n",
    "# for example list_of_virus_data[0] gives the first dataframe\n"
   ]
  },
  {
   "cell_type": "markdown",
   "metadata": {},
   "source": [
    "## Start cleaning virus data"
   ]
  },
  {
   "cell_type": "markdown",
   "metadata": {},
   "source": [
    "### Clean 0th to 1th df in the list "
   ]
  },
  {
   "cell_type": "code",
   "execution_count": null,
   "metadata": {},
   "outputs": [],
   "source": [
    "# Clean 0th to 1th df in the list \n",
    "for i in range(0,2):\n",
    "    # get the df of the ith day\n",
    "    df = list_of_virus_data[i]\n",
    "    # use the first data row as column names\n",
    "    df.columns = df.iloc[0]\n",
    "    # drop first row, because is was used as header\n",
    "    df = df.drop(0)\n",
    "    # drop the column '1', because it is irrlavent\n",
    "    df = df.drop(1, axis=1)\n",
    "    # save cleaned data to list_of_virus_data \n",
    "    list_of_virus_data[i] = df"
   ]
  },
  {
   "cell_type": "markdown",
   "metadata": {},
   "source": [
    "### Clean 2th df in the list"
   ]
  },
  {
   "cell_type": "code",
   "execution_count": null,
   "metadata": {
    "scrolled": true
   },
   "outputs": [],
   "source": [
    "# Clean 2th df in the list\n",
    "# get the df of the ith day\n",
    "df = list_of_virus_data[2]\n",
    "# reset column names\n",
    "df.columns = [\"Province/Region/City\", \"Confirmed Cases\", 1]\n",
    "# drop meaningless 1\" column,  keep \"Confirmed Cases\" and \"Province/Region/City\"\n",
    "df = df.drop(1, axis=1)\n",
    "# Drop the last row, because it is comment instaed of data\n",
    "df = df.drop(df.shape[0] - 1)\n",
    "# save cleaned data to list_of_virus_data \n",
    "list_of_virus_data[2] = df"
   ]
  },
  {
   "cell_type": "markdown",
   "metadata": {},
   "source": [
    "### Clean 3th to 10th df in the list "
   ]
  },
  {
   "cell_type": "code",
   "execution_count": null,
   "metadata": {},
   "outputs": [],
   "source": [
    "# Clean 3th to 10th df in the list \n",
    "for i in range(3,11):\n",
    "    # get the df of the ith day\n",
    "    df = list_of_virus_data[i]\n",
    "    # use the first data row as column names\n",
    "    df.columns = df.iloc[0]\n",
    "    # drop first row, because is was used as header\n",
    "    df = df.drop(0)\n",
    "    # drop the column '1', because it is irrlavent\n",
    "    df = df.drop(1, axis=1)\n",
    "    # save cleaned data to list_of_virus_data\n",
    "    list_of_virus_data[i] = df"
   ]
  },
  {
   "cell_type": "code",
   "execution_count": null,
   "metadata": {},
   "outputs": [],
   "source": [
    "df1 = list_of_virus_data[1]\n",
    "df2 = list_of_virus_data[2]\n",
    "df1.merge(df2,how='left')"
   ]
  },
  {
   "cell_type": "raw",
   "metadata": {},
   "source": [
    "# Clean 11th to the 28th df in the list \n",
    "# TODO"
   ]
  },
  {
   "cell_type": "markdown",
   "metadata": {},
   "source": [
    "# Data Analysis & Results"
   ]
  },
  {
   "cell_type": "markdown",
   "metadata": {},
   "source": [
    "Correlation between Population density and economic status\n",
    "This part is to analyze the correlation between population density and economic status. We found the data for both population and area by each province. It needs to be calculated to population density first by dividing population by area."
   ]
  },
  {
   "cell_type": "markdown",
   "metadata": {},
   "source": [
    "We decide to use the population data from the most recent year available, which is 2018.\n",
    "We also need to change the column name to \"district\" to correspond with the area dataset."
   ]
  },
  {
   "cell_type": "code",
   "execution_count": 8,
   "metadata": {},
   "outputs": [
    {
     "data": {
      "text/html": [
       "<div>\n",
       "<style scoped>\n",
       "    .dataframe tbody tr th:only-of-type {\n",
       "        vertical-align: middle;\n",
       "    }\n",
       "\n",
       "    .dataframe tbody tr th {\n",
       "        vertical-align: top;\n",
       "    }\n",
       "\n",
       "    .dataframe thead th {\n",
       "        text-align: right;\n",
       "    }\n",
       "</style>\n",
       "<table border=\"1\" class=\"dataframe\">\n",
       "  <thead>\n",
       "    <tr style=\"text-align: right;\">\n",
       "      <th></th>\n",
       "      <th>Region</th>\n",
       "      <th>2018</th>\n",
       "    </tr>\n",
       "  </thead>\n",
       "  <tbody>\n",
       "    <tr>\n",
       "      <td>0</td>\n",
       "      <td>Beijing</td>\n",
       "      <td>2154</td>\n",
       "    </tr>\n",
       "    <tr>\n",
       "      <td>1</td>\n",
       "      <td>Tianjin</td>\n",
       "      <td>1560</td>\n",
       "    </tr>\n",
       "    <tr>\n",
       "      <td>2</td>\n",
       "      <td>Hebei</td>\n",
       "      <td>7556</td>\n",
       "    </tr>\n",
       "    <tr>\n",
       "      <td>3</td>\n",
       "      <td>Shanxi</td>\n",
       "      <td>3718</td>\n",
       "    </tr>\n",
       "    <tr>\n",
       "      <td>4</td>\n",
       "      <td>Inner Mongolia</td>\n",
       "      <td>2534</td>\n",
       "    </tr>\n",
       "  </tbody>\n",
       "</table>\n",
       "</div>"
      ],
      "text/plain": [
       "           Region  2018\n",
       "0         Beijing  2154\n",
       "1         Tianjin  1560\n",
       "2           Hebei  7556\n",
       "3          Shanxi  3718\n",
       "4  Inner Mongolia  2534"
      ]
     },
     "execution_count": 8,
     "metadata": {},
     "output_type": "execute_result"
    }
   ],
   "source": [
    "population_2018 = population[population.columns[:2]]\n",
    "population_2018.head()"
   ]
  },
  {
   "cell_type": "markdown",
   "metadata": {},
   "source": [
    "we will now merge the population and area dataset by the province name. We choose to \"inner\" merge them because if there is a province with either no population or area, we are unable to calculate the population density.\n",
    "Then we could have calculate the population density by dividing population by area.\n",
    "The unit for population density is number of people per square kilometer."
   ]
  },
  {
   "cell_type": "code",
   "execution_count": 9,
   "metadata": {},
   "outputs": [
    {
     "data": {
      "text/html": [
       "<div>\n",
       "<style scoped>\n",
       "    .dataframe tbody tr th:only-of-type {\n",
       "        vertical-align: middle;\n",
       "    }\n",
       "\n",
       "    .dataframe tbody tr th {\n",
       "        vertical-align: top;\n",
       "    }\n",
       "\n",
       "    .dataframe thead th {\n",
       "        text-align: right;\n",
       "    }\n",
       "</style>\n",
       "<table border=\"1\" class=\"dataframe\">\n",
       "  <thead>\n",
       "    <tr style=\"text-align: right;\">\n",
       "      <th></th>\n",
       "      <th>Region</th>\n",
       "      <th>population density</th>\n",
       "    </tr>\n",
       "  </thead>\n",
       "  <tbody>\n",
       "    <tr>\n",
       "      <td>0</td>\n",
       "      <td>Beijing</td>\n",
       "      <td>0.131293</td>\n",
       "    </tr>\n",
       "    <tr>\n",
       "      <td>1</td>\n",
       "      <td>Tianjin</td>\n",
       "      <td>0.130905</td>\n",
       "    </tr>\n",
       "    <tr>\n",
       "      <td>2</td>\n",
       "      <td>Hebei</td>\n",
       "      <td>0.040075</td>\n",
       "    </tr>\n",
       "    <tr>\n",
       "      <td>3</td>\n",
       "      <td>Shanxi</td>\n",
       "      <td>0.023727</td>\n",
       "    </tr>\n",
       "    <tr>\n",
       "      <td>4</td>\n",
       "      <td>Shanxi</td>\n",
       "      <td>0.018082</td>\n",
       "    </tr>\n",
       "  </tbody>\n",
       "</table>\n",
       "</div>"
      ],
      "text/plain": [
       "    Region  population density\n",
       "0  Beijing            0.131293\n",
       "1  Tianjin            0.130905\n",
       "2    Hebei            0.040075\n",
       "3   Shanxi            0.023727\n",
       "4   Shanxi            0.018082"
      ]
     },
     "execution_count": 9,
     "metadata": {},
     "output_type": "execute_result"
    }
   ],
   "source": [
    "popu_density = pd.merge(population_2018,area,on = 'Region')\n",
    "popu_density['Area'] = pd.to_numeric(popu_density['Area'])\n",
    "popu_density['2018'] = pd.to_numeric(popu_density['2018'])\n",
    "popu_density['population density'] = popu_density['2018']/popu_density['Area']\n",
    "popu_density = popu_density.drop(columns = 'Area')\n",
    "popu_density = popu_density.drop(columns = '2018')\n",
    "popu_density.head()\n"
   ]
  },
  {
   "cell_type": "markdown",
   "metadata": {},
   "source": [
    "we will now merge the data for population density and economic status by province. Since we use the population data in 2018 for calculating the population density, we will also use GRP in 2018 to find the correlation between population density and economic status."
   ]
  },
  {
   "cell_type": "code",
   "execution_count": 15,
   "metadata": {},
   "outputs": [
    {
     "data": {
      "text/html": [
       "<div>\n",
       "<style scoped>\n",
       "    .dataframe tbody tr th:only-of-type {\n",
       "        vertical-align: middle;\n",
       "    }\n",
       "\n",
       "    .dataframe tbody tr th {\n",
       "        vertical-align: top;\n",
       "    }\n",
       "\n",
       "    .dataframe thead th {\n",
       "        text-align: right;\n",
       "    }\n",
       "</style>\n",
       "<table border=\"1\" class=\"dataframe\">\n",
       "  <thead>\n",
       "    <tr style=\"text-align: right;\">\n",
       "      <th></th>\n",
       "      <th>Region</th>\n",
       "      <th>population density</th>\n",
       "      <th>GRP</th>\n",
       "    </tr>\n",
       "  </thead>\n",
       "  <tbody>\n",
       "    <tr>\n",
       "      <td>0</td>\n",
       "      <td>Beijing</td>\n",
       "      <td>0.131293</td>\n",
       "      <td>140211</td>\n",
       "    </tr>\n",
       "    <tr>\n",
       "      <td>1</td>\n",
       "      <td>Tianjin</td>\n",
       "      <td>0.130905</td>\n",
       "      <td>120711</td>\n",
       "    </tr>\n",
       "    <tr>\n",
       "      <td>2</td>\n",
       "      <td>Hebei</td>\n",
       "      <td>0.040075</td>\n",
       "      <td>47772</td>\n",
       "    </tr>\n",
       "    <tr>\n",
       "      <td>3</td>\n",
       "      <td>Shanxi</td>\n",
       "      <td>0.023727</td>\n",
       "      <td>45328</td>\n",
       "    </tr>\n",
       "    <tr>\n",
       "      <td>4</td>\n",
       "      <td>Shanxi</td>\n",
       "      <td>0.018082</td>\n",
       "      <td>45328</td>\n",
       "    </tr>\n",
       "  </tbody>\n",
       "</table>\n",
       "</div>"
      ],
      "text/plain": [
       "    Region  population density     GRP\n",
       "0  Beijing            0.131293  140211\n",
       "1  Tianjin            0.130905  120711\n",
       "2    Hebei            0.040075   47772\n",
       "3   Shanxi            0.023727   45328\n",
       "4   Shanxi            0.018082   45328"
      ]
     },
     "execution_count": 15,
     "metadata": {},
     "output_type": "execute_result"
    }
   ],
   "source": [
    "co_pd_es = pd.merge(popu_density,GRP, on = 'Region')\n",
    "co_pd_es = co_pd_es[co_pd_es.columns[:3]]\n",
    "co_pd_es = co_pd_es.rename(columns = {'2018':'GRP'})\n",
    "co_pd_es.head()"
   ]
  },
  {
   "cell_type": "markdown",
   "metadata": {},
   "source": [
    "Now we can look into the correlation between population density and GRP. we will make a scatter plot of GRP vs. population density and draw the linear regression line to show the relationship."
   ]
  },
  {
   "cell_type": "code",
   "execution_count": 16,
   "metadata": {},
   "outputs": [
    {
     "data": {
      "text/plain": [
       "(418533.9004044728, 46606.9870364815)"
      ]
     },
     "execution_count": 16,
     "metadata": {},
     "output_type": "execute_result"
    }
   ],
   "source": [
    "a1 = np.polyfit(co_pd_es['population density'],co_pd_es['GRP'],deg = 1)[0]\n",
    "b1 = np.polyfit(co_pd_es['population density'],co_pd_es['GRP'],deg = 1)[1]\n",
    "a1,b1"
   ]
  },
  {
   "cell_type": "code",
   "execution_count": 26,
   "metadata": {},
   "outputs": [
    {
     "data": {
      "text/plain": [
       "[<matplotlib.lines.Line2D at 0x1a1d4c08d0>]"
      ]
     },
     "execution_count": 26,
     "metadata": {},
     "output_type": "execute_result"
    },
    {
     "data": {
      "image/png": "[encoded data removed]",
      "text/plain": [
       "<Figure size 432x288 with 1 Axes>"
      ]
     },
     "metadata": {
      "needs_background": "light"
     },
     "output_type": "display_data"
    }
   ],
   "source": [
    "plt.plot(co_pd_es['population density'],co_pd_es['GRP'],'.')\n",
    "plt.title('GRP vs. Population Density by Province')\n",
    "plt.xlabel(\"population density \\n number of people per square km\" )\n",
    "plt.ylabel(\"GRP (yuan)\")\n",
    "pred_GRP = co_pd_es['population density']*a1+b1\n",
    "plt.plot(co_pd_es['population density'],pred_GRP,'red')"
   ]
  },
  {
   "cell_type": "markdown",
   "metadata": {},
   "source": [
    "From this plot, it is clear that there is a positive relationship between population density and GRP. The regions with higher population density tend to have higher GRP. Thus, population density might also serve as a factor that confounds with the economic status. \n",
    "\n",
    "With better GRP, the province are expected to have a slower breakout rate due to the the better infrastructures like hospitals or clinics to support the citizens against the cirus. However, the breakout rates are actually tend to be higher with province with higher GRP. Population density might be the most important cofounding factor for this controversy. \n",
    "\n",
    "Now, we will look at the correlation between population density and the virus breakout rate to see whether they are in fact correlated."
   ]
  },
  {
   "cell_type": "markdown",
   "metadata": {},
   "source": [
    "# Ethics & Privacy"
   ]
  },
  {
   "cell_type": "markdown",
   "metadata": {},
   "source": [
    "*Fill in your ethics & privacy discussion here*"
   ]
  },
  {
   "cell_type": "markdown",
   "metadata": {},
   "source": [
    "# Conclusion & Discussion"
   ]
  },
  {
   "cell_type": "markdown",
   "metadata": {},
   "source": [
    "*Fill in your discussion information here*"
   ]
  },
  {
   "cell_type": "markdown",
   "metadata": {},
   "source": [
    "# Team Contributions"
   ]
  },
  {
   "cell_type": "markdown",
   "metadata": {},
   "source": [
    "*Specify who in your group worked on which parts of the project.*"
   ]
  },
  {
   "cell_type": "code",
   "execution_count": null,
   "metadata": {},
   "outputs": [],
   "source": []
  }
 ],
 "metadata": {
  "kernelspec": {
   "display_name": "Python 3",
   "language": "python",
   "name": "python3"
  },
  "language_info": {
   "codemirror_mode": {
    "name": "ipython",
    "version": 3
   },
   "file_extension": ".py",
   "mimetype": "text/x-python",
   "name": "python",
   "nbconvert_exporter": "python",
   "pygments_lexer": "ipython3",
   "version": "3.7.4"
  }
 },
 "nbformat": 4,
 "nbformat_minor": 4
}
